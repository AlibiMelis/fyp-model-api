{
 "cells": [
  {
   "cell_type": "code",
   "execution_count": 1,
   "id": "6cfbdabb",
   "metadata": {},
   "outputs": [],
   "source": [
    "import pandas as pd\n",
    "import numpy as np\n",
    "import matplotlib.pyplot as plt\n",
    "import seaborn as sns\n",
    "from sklearn.model_selection import train_test_split"
   ]
  },
  {
   "cell_type": "code",
   "execution_count": 2,
   "id": "4041d14e",
   "metadata": {},
   "outputs": [],
   "source": [
    "from sklearn.metrics import mean_squared_error"
   ]
  },
  {
   "cell_type": "markdown",
   "id": "422458a0",
   "metadata": {},
   "source": [
    "# Weekday"
   ]
  },
  {
   "cell_type": "code",
   "execution_count": 36,
   "id": "eb9b8625",
   "metadata": {},
   "outputs": [
    {
     "data": {
      "text/html": [
       "<div>\n",
       "<style scoped>\n",
       "    .dataframe tbody tr th:only-of-type {\n",
       "        vertical-align: middle;\n",
       "    }\n",
       "\n",
       "    .dataframe tbody tr th {\n",
       "        vertical-align: top;\n",
       "    }\n",
       "\n",
       "    .dataframe thead th {\n",
       "        text-align: right;\n",
       "    }\n",
       "</style>\n",
       "<table border=\"1\" class=\"dataframe\">\n",
       "  <thead>\n",
       "    <tr style=\"text-align: right;\">\n",
       "      <th></th>\n",
       "      <th>trans_id</th>\n",
       "      <th>account_id</th>\n",
       "      <th>date</th>\n",
       "      <th>type</th>\n",
       "      <th>amount</th>\n",
       "    </tr>\n",
       "  </thead>\n",
       "  <tbody>\n",
       "    <tr>\n",
       "      <th>0</th>\n",
       "      <td>695247</td>\n",
       "      <td>2378</td>\n",
       "      <td>1993-01-01</td>\n",
       "      <td>0</td>\n",
       "      <td>252.0</td>\n",
       "    </tr>\n",
       "    <tr>\n",
       "      <th>1</th>\n",
       "      <td>171812</td>\n",
       "      <td>576</td>\n",
       "      <td>1993-01-01</td>\n",
       "      <td>0</td>\n",
       "      <td>324.0</td>\n",
       "    </tr>\n",
       "    <tr>\n",
       "      <th>2</th>\n",
       "      <td>207264</td>\n",
       "      <td>704</td>\n",
       "      <td>1993-01-01</td>\n",
       "      <td>0</td>\n",
       "      <td>360.0</td>\n",
       "    </tr>\n",
       "    <tr>\n",
       "      <th>3</th>\n",
       "      <td>1117247</td>\n",
       "      <td>3818</td>\n",
       "      <td>1993-01-01</td>\n",
       "      <td>0</td>\n",
       "      <td>216.0</td>\n",
       "    </tr>\n",
       "    <tr>\n",
       "      <th>4</th>\n",
       "      <td>579373</td>\n",
       "      <td>1972</td>\n",
       "      <td>1993-01-02</td>\n",
       "      <td>0</td>\n",
       "      <td>144.0</td>\n",
       "    </tr>\n",
       "  </tbody>\n",
       "</table>\n",
       "</div>"
      ],
      "text/plain": [
       "   trans_id  account_id        date  type  amount\n",
       "0    695247        2378  1993-01-01     0   252.0\n",
       "1    171812         576  1993-01-01     0   324.0\n",
       "2    207264         704  1993-01-01     0   360.0\n",
       "3   1117247        3818  1993-01-01     0   216.0\n",
       "4    579373        1972  1993-01-02     0   144.0"
      ]
     },
     "execution_count": 36,
     "metadata": {},
     "output_type": "execute_result"
    }
   ],
   "source": [
    "df = pd.read_csv('formatted_data.csv')\n",
    "df.head()"
   ]
  },
  {
   "cell_type": "code",
   "execution_count": 41,
   "id": "f85b0bc1",
   "metadata": {},
   "outputs": [
    {
     "name": "stderr",
     "output_type": "stream",
     "text": [
      "/var/folders/l9/951vvrv96qx81mc5lm6l3d140000gn/T/ipykernel_33781/1920470142.py:7: SettingWithCopyWarning: \n",
      "A value is trying to be set on a copy of a slice from a DataFrame.\n",
      "Try using .loc[row_indexer,col_indexer] = value instead\n",
      "\n",
      "See the caveats in the documentation: https://pandas.pydata.org/pandas-docs/stable/user_guide/indexing.html#returning-a-view-versus-a-copy\n",
      "  test_user['type'] = test_user['type'].map(mapping)\n"
     ]
    }
   ],
   "source": [
    "test_user = df[df['account_id'] == 3116]\n",
    "test_user.sort_values(by='date')\n",
    "def mapping(val):\n",
    "    if val == 0:\n",
    "        return 'income'\n",
    "    return 'expense'\n",
    "test_user['type'] = test_user['type'].map(mapping)\n",
    "split = int(len(test_user) * 0.8)\n",
    "test_user_data = test_user[:split]\n",
    "test_user_actual = test_user[split:]\n",
    "test_user_input = test_user_actual.drop(['amount'], axis=1)\n",
    "\n",
    "\n",
    "test_user_data.to_csv('test_user_data_3116.csv')\n",
    "test_user_actual.to_csv('test_user_actual_3116.csv')\n",
    "test_user_input.to_csv('test_user_input_3116.csv')\n",
    "\n"
   ]
  },
  {
   "cell_type": "code",
   "execution_count": 4,
   "id": "275294d5",
   "metadata": {},
   "outputs": [],
   "source": [
    "df['date'] = pd.to_datetime(df['date'], format='%Y-%m-%d')"
   ]
  },
  {
   "cell_type": "code",
   "execution_count": 5,
   "id": "afd02b77",
   "metadata": {},
   "outputs": [],
   "source": [
    "df['weekday'] = df['date'].dt.dayofweek\n",
    "df['day'] = df['date'].dt.day\n",
    "df['month'] = df['date'].dt.month\n",
    "df['year'] = df['date'].dt.year"
   ]
  },
  {
   "cell_type": "code",
   "execution_count": 6,
   "id": "671b33df",
   "metadata": {
    "scrolled": true
   },
   "outputs": [
    {
     "data": {
      "text/html": [
       "<div>\n",
       "<style scoped>\n",
       "    .dataframe tbody tr th:only-of-type {\n",
       "        vertical-align: middle;\n",
       "    }\n",
       "\n",
       "    .dataframe tbody tr th {\n",
       "        vertical-align: top;\n",
       "    }\n",
       "\n",
       "    .dataframe thead th {\n",
       "        text-align: right;\n",
       "    }\n",
       "</style>\n",
       "<table border=\"1\" class=\"dataframe\">\n",
       "  <thead>\n",
       "    <tr style=\"text-align: right;\">\n",
       "      <th></th>\n",
       "      <th>trans_id</th>\n",
       "      <th>account_id</th>\n",
       "      <th>date</th>\n",
       "      <th>type</th>\n",
       "      <th>amount</th>\n",
       "      <th>weekday</th>\n",
       "      <th>day</th>\n",
       "      <th>month</th>\n",
       "      <th>year</th>\n",
       "    </tr>\n",
       "  </thead>\n",
       "  <tbody>\n",
       "    <tr>\n",
       "      <th>0</th>\n",
       "      <td>695247</td>\n",
       "      <td>2378</td>\n",
       "      <td>1993-01-01</td>\n",
       "      <td>0</td>\n",
       "      <td>252.0</td>\n",
       "      <td>4</td>\n",
       "      <td>1</td>\n",
       "      <td>1</td>\n",
       "      <td>1993</td>\n",
       "    </tr>\n",
       "    <tr>\n",
       "      <th>1</th>\n",
       "      <td>171812</td>\n",
       "      <td>576</td>\n",
       "      <td>1993-01-01</td>\n",
       "      <td>0</td>\n",
       "      <td>324.0</td>\n",
       "      <td>4</td>\n",
       "      <td>1</td>\n",
       "      <td>1</td>\n",
       "      <td>1993</td>\n",
       "    </tr>\n",
       "    <tr>\n",
       "      <th>2</th>\n",
       "      <td>207264</td>\n",
       "      <td>704</td>\n",
       "      <td>1993-01-01</td>\n",
       "      <td>0</td>\n",
       "      <td>360.0</td>\n",
       "      <td>4</td>\n",
       "      <td>1</td>\n",
       "      <td>1</td>\n",
       "      <td>1993</td>\n",
       "    </tr>\n",
       "    <tr>\n",
       "      <th>3</th>\n",
       "      <td>1117247</td>\n",
       "      <td>3818</td>\n",
       "      <td>1993-01-01</td>\n",
       "      <td>0</td>\n",
       "      <td>216.0</td>\n",
       "      <td>4</td>\n",
       "      <td>1</td>\n",
       "      <td>1</td>\n",
       "      <td>1993</td>\n",
       "    </tr>\n",
       "    <tr>\n",
       "      <th>4</th>\n",
       "      <td>579373</td>\n",
       "      <td>1972</td>\n",
       "      <td>1993-01-02</td>\n",
       "      <td>0</td>\n",
       "      <td>144.0</td>\n",
       "      <td>5</td>\n",
       "      <td>2</td>\n",
       "      <td>1</td>\n",
       "      <td>1993</td>\n",
       "    </tr>\n",
       "  </tbody>\n",
       "</table>\n",
       "</div>"
      ],
      "text/plain": [
       "   trans_id  account_id       date  type  amount  weekday  day  month  year\n",
       "0    695247        2378 1993-01-01     0   252.0        4    1      1  1993\n",
       "1    171812         576 1993-01-01     0   324.0        4    1      1  1993\n",
       "2    207264         704 1993-01-01     0   360.0        4    1      1  1993\n",
       "3   1117247        3818 1993-01-01     0   216.0        4    1      1  1993\n",
       "4    579373        1972 1993-01-02     0   144.0        5    2      1  1993"
      ]
     },
     "execution_count": 6,
     "metadata": {},
     "output_type": "execute_result"
    }
   ],
   "source": [
    "df.head()"
   ]
  },
  {
   "cell_type": "code",
   "execution_count": 7,
   "id": "2db66d1d",
   "metadata": {},
   "outputs": [],
   "source": [
    "df = df.dropna(subset=['amount','date'])\n",
    "df = df.drop(['date'], axis=1)\n",
    "df = df[df['type'] == 1]"
   ]
  },
  {
   "cell_type": "code",
   "execution_count": 8,
   "id": "9da4f2f0",
   "metadata": {},
   "outputs": [
    {
     "data": {
      "text/html": [
       "<div>\n",
       "<style scoped>\n",
       "    .dataframe tbody tr th:only-of-type {\n",
       "        vertical-align: middle;\n",
       "    }\n",
       "\n",
       "    .dataframe tbody tr th {\n",
       "        vertical-align: top;\n",
       "    }\n",
       "\n",
       "    .dataframe thead th {\n",
       "        text-align: right;\n",
       "    }\n",
       "</style>\n",
       "<table border=\"1\" class=\"dataframe\">\n",
       "  <thead>\n",
       "    <tr style=\"text-align: right;\">\n",
       "      <th></th>\n",
       "      <th>trans_id</th>\n",
       "      <th>account_id</th>\n",
       "      <th>type</th>\n",
       "      <th>amount</th>\n",
       "      <th>weekday</th>\n",
       "      <th>day</th>\n",
       "      <th>month</th>\n",
       "      <th>year</th>\n",
       "    </tr>\n",
       "  </thead>\n",
       "  <tbody>\n",
       "    <tr>\n",
       "      <th>count</th>\n",
       "      <td>6.345710e+05</td>\n",
       "      <td>634571.000000</td>\n",
       "      <td>634571.0</td>\n",
       "      <td>634571.000000</td>\n",
       "      <td>634571.000000</td>\n",
       "      <td>634571.000000</td>\n",
       "      <td>634571.000000</td>\n",
       "      <td>634571.000000</td>\n",
       "    </tr>\n",
       "    <tr>\n",
       "      <th>mean</th>\n",
       "      <td>8.609373e+05</td>\n",
       "      <td>2895.322495</td>\n",
       "      <td>1.0</td>\n",
       "      <td>1600.795271</td>\n",
       "      <td>3.007619</td>\n",
       "      <td>17.271432</td>\n",
       "      <td>6.448725</td>\n",
       "      <td>1996.537757</td>\n",
       "    </tr>\n",
       "    <tr>\n",
       "      <th>std</th>\n",
       "      <td>7.445944e+05</td>\n",
       "      <td>2444.605845</td>\n",
       "      <td>0.0</td>\n",
       "      <td>2655.196687</td>\n",
       "      <td>2.008219</td>\n",
       "      <td>9.900194</td>\n",
       "      <td>3.670362</td>\n",
       "      <td>1.370738</td>\n",
       "    </tr>\n",
       "    <tr>\n",
       "      <th>min</th>\n",
       "      <td>5.800000e+01</td>\n",
       "      <td>1.000000</td>\n",
       "      <td>1.0</td>\n",
       "      <td>0.000000</td>\n",
       "      <td>0.000000</td>\n",
       "      <td>1.000000</td>\n",
       "      <td>1.000000</td>\n",
       "      <td>1993.000000</td>\n",
       "    </tr>\n",
       "    <tr>\n",
       "      <th>25%</th>\n",
       "      <td>3.523735e+05</td>\n",
       "      <td>1196.000000</td>\n",
       "      <td>1.0</td>\n",
       "      <td>15.480000</td>\n",
       "      <td>1.000000</td>\n",
       "      <td>9.000000</td>\n",
       "      <td>3.000000</td>\n",
       "      <td>1996.000000</td>\n",
       "    </tr>\n",
       "    <tr>\n",
       "      <th>50%</th>\n",
       "      <td>7.058090e+05</td>\n",
       "      <td>2415.000000</td>\n",
       "      <td>1.0</td>\n",
       "      <td>735.120000</td>\n",
       "      <td>3.000000</td>\n",
       "      <td>14.000000</td>\n",
       "      <td>7.000000</td>\n",
       "      <td>1997.000000</td>\n",
       "    </tr>\n",
       "    <tr>\n",
       "      <th>75%</th>\n",
       "      <td>1.061698e+06</td>\n",
       "      <td>3623.000000</td>\n",
       "      <td>1.0</td>\n",
       "      <td>1872.000000</td>\n",
       "      <td>5.000000</td>\n",
       "      <td>29.000000</td>\n",
       "      <td>10.000000</td>\n",
       "      <td>1998.000000</td>\n",
       "    </tr>\n",
       "    <tr>\n",
       "      <th>max</th>\n",
       "      <td>3.682967e+06</td>\n",
       "      <td>11382.000000</td>\n",
       "      <td>1.0</td>\n",
       "      <td>31464.000000</td>\n",
       "      <td>6.000000</td>\n",
       "      <td>31.000000</td>\n",
       "      <td>12.000000</td>\n",
       "      <td>1998.000000</td>\n",
       "    </tr>\n",
       "  </tbody>\n",
       "</table>\n",
       "</div>"
      ],
      "text/plain": [
       "           trans_id     account_id      type         amount        weekday  \\\n",
       "count  6.345710e+05  634571.000000  634571.0  634571.000000  634571.000000   \n",
       "mean   8.609373e+05    2895.322495       1.0    1600.795271       3.007619   \n",
       "std    7.445944e+05    2444.605845       0.0    2655.196687       2.008219   \n",
       "min    5.800000e+01       1.000000       1.0       0.000000       0.000000   \n",
       "25%    3.523735e+05    1196.000000       1.0      15.480000       1.000000   \n",
       "50%    7.058090e+05    2415.000000       1.0     735.120000       3.000000   \n",
       "75%    1.061698e+06    3623.000000       1.0    1872.000000       5.000000   \n",
       "max    3.682967e+06   11382.000000       1.0   31464.000000       6.000000   \n",
       "\n",
       "                 day          month           year  \n",
       "count  634571.000000  634571.000000  634571.000000  \n",
       "mean       17.271432       6.448725    1996.537757  \n",
       "std         9.900194       3.670362       1.370738  \n",
       "min         1.000000       1.000000    1993.000000  \n",
       "25%         9.000000       3.000000    1996.000000  \n",
       "50%        14.000000       7.000000    1997.000000  \n",
       "75%        29.000000      10.000000    1998.000000  \n",
       "max        31.000000      12.000000    1998.000000  "
      ]
     },
     "execution_count": 8,
     "metadata": {},
     "output_type": "execute_result"
    }
   ],
   "source": [
    "df.describe()"
   ]
  },
  {
   "cell_type": "code",
   "execution_count": 35,
   "id": "ecdcc9c8",
   "metadata": {},
   "outputs": [
    {
     "data": {
      "text/html": [
       "<div>\n",
       "<style scoped>\n",
       "    .dataframe tbody tr th:only-of-type {\n",
       "        vertical-align: middle;\n",
       "    }\n",
       "\n",
       "    .dataframe tbody tr th {\n",
       "        vertical-align: top;\n",
       "    }\n",
       "\n",
       "    .dataframe thead th {\n",
       "        text-align: right;\n",
       "    }\n",
       "</style>\n",
       "<table border=\"1\" class=\"dataframe\">\n",
       "  <thead>\n",
       "    <tr style=\"text-align: right;\">\n",
       "      <th></th>\n",
       "      <th>trans_id</th>\n",
       "      <th>account_id</th>\n",
       "      <th>type</th>\n",
       "      <th>weekday</th>\n",
       "      <th>day</th>\n",
       "      <th>month</th>\n",
       "      <th>year</th>\n",
       "    </tr>\n",
       "  </thead>\n",
       "  <tbody>\n",
       "    <tr>\n",
       "      <th>688808</th>\n",
       "      <td>2779752</td>\n",
       "      <td>9199</td>\n",
       "      <td>1</td>\n",
       "      <td>6</td>\n",
       "      <td>30</td>\n",
       "      <td>11</td>\n",
       "      <td>1997</td>\n",
       "    </tr>\n",
       "    <tr>\n",
       "      <th>141627</th>\n",
       "      <td>826317</td>\n",
       "      <td>2814</td>\n",
       "      <td>1</td>\n",
       "      <td>1</td>\n",
       "      <td>28</td>\n",
       "      <td>2</td>\n",
       "      <td>1995</td>\n",
       "    </tr>\n",
       "    <tr>\n",
       "      <th>776182</th>\n",
       "      <td>905142</td>\n",
       "      <td>3085</td>\n",
       "      <td>1</td>\n",
       "      <td>5</td>\n",
       "      <td>14</td>\n",
       "      <td>2</td>\n",
       "      <td>1998</td>\n",
       "    </tr>\n",
       "    <tr>\n",
       "      <th>103988</th>\n",
       "      <td>334213</td>\n",
       "      <td>1136</td>\n",
       "      <td>1</td>\n",
       "      <td>0</td>\n",
       "      <td>14</td>\n",
       "      <td>11</td>\n",
       "      <td>1994</td>\n",
       "    </tr>\n",
       "    <tr>\n",
       "      <th>829111</th>\n",
       "      <td>311979</td>\n",
       "      <td>1064</td>\n",
       "      <td>1</td>\n",
       "      <td>0</td>\n",
       "      <td>27</td>\n",
       "      <td>4</td>\n",
       "      <td>1998</td>\n",
       "    </tr>\n",
       "  </tbody>\n",
       "</table>\n",
       "</div>"
      ],
      "text/plain": [
       "        trans_id  account_id  type  weekday  day  month  year\n",
       "688808   2779752        9199     1        6   30     11  1997\n",
       "141627    826317        2814     1        1   28      2  1995\n",
       "776182    905142        3085     1        5   14      2  1998\n",
       "103988    334213        1136     1        0   14     11  1994\n",
       "829111    311979        1064     1        0   27      4  1998"
      ]
     },
     "execution_count": 35,
     "metadata": {},
     "output_type": "execute_result"
    }
   ],
   "source": [
    "# import datetime as dt\n",
    "# df['date'] = df['date'].map(dt.datetime.toordinal)\n",
    "x = df.drop('amount', axis=1)\n",
    "y = df['amount']\n",
    "x_train, x_test, y_train, y_test = train_test_split(x, y, test_size=0.2)\n",
    "\n",
    "x_train.head()"
   ]
  },
  {
   "cell_type": "code",
   "execution_count": 10,
   "id": "dcc08030",
   "metadata": {},
   "outputs": [],
   "source": [
    "from sklearn.ensemble import RandomForestRegressor\n"
   ]
  },
  {
   "cell_type": "code",
   "execution_count": 24,
   "id": "97ce7de8",
   "metadata": {},
   "outputs": [],
   "source": [
    "model = RandomForestRegressor(max_depth=3, n_estimators=500)"
   ]
  },
  {
   "cell_type": "code",
   "execution_count": 25,
   "id": "c50e7eb9",
   "metadata": {},
   "outputs": [
    {
     "data": {
      "text/plain": [
       "RandomForestRegressor(max_depth=3, n_estimators=500)"
      ]
     },
     "execution_count": 25,
     "metadata": {},
     "output_type": "execute_result"
    }
   ],
   "source": [
    "model.fit(x_train, y_train)"
   ]
  },
  {
   "cell_type": "code",
   "execution_count": 26,
   "id": "722bc429",
   "metadata": {},
   "outputs": [
    {
     "name": "stdout",
     "output_type": "stream",
     "text": [
      "MSE: 6143253.896054733, RMSE 2478.5588344953067\n"
     ]
    }
   ],
   "source": [
    "\n",
    "\n",
    "\n",
    "\n",
    "predictions = model.predict(x_test)\n",
    "mse = mean_squared_error(y_test, predictions)\n",
    "rmse = np.sqrt(mse)\n",
    "print(\"MSE: {}, RMSE {}\".format(mse, rmse))"
   ]
  },
  {
   "cell_type": "code",
   "execution_count": 33,
   "id": "edb04cc5",
   "metadata": {},
   "outputs": [
    {
     "name": "stdout",
     "output_type": "stream",
     "text": [
      "        trans_id  account_id  type  weekday  day  month  year    amount\n",
      "930656    914480        3116     1        6   23      8  1998  4284.000\n",
      "349575   2439197        8041     1        2   31      7  1996     5.256\n",
      "898633   2448798        8073     1        4   10      7  1998   250.200\n",
      "278623    558102        1898     1        3   29      2  1996     5.256\n",
      "331801    381394        1295     1        2   19      6  1996   324.000\n"
     ]
    },
    {
     "data": {
      "text/html": [
       "<div>\n",
       "<style scoped>\n",
       "    .dataframe tbody tr th:only-of-type {\n",
       "        vertical-align: middle;\n",
       "    }\n",
       "\n",
       "    .dataframe tbody tr th {\n",
       "        vertical-align: top;\n",
       "    }\n",
       "\n",
       "    .dataframe thead th {\n",
       "        text-align: right;\n",
       "    }\n",
       "</style>\n",
       "<table border=\"1\" class=\"dataframe\">\n",
       "  <thead>\n",
       "    <tr style=\"text-align: right;\">\n",
       "      <th></th>\n",
       "      <th>Actual</th>\n",
       "      <th>Prediction</th>\n",
       "    </tr>\n",
       "  </thead>\n",
       "  <tbody>\n",
       "    <tr>\n",
       "      <th>0</th>\n",
       "      <td>4284.000</td>\n",
       "      <td>2572.698240</td>\n",
       "    </tr>\n",
       "    <tr>\n",
       "      <th>1</th>\n",
       "      <td>5.256</td>\n",
       "      <td>255.611293</td>\n",
       "    </tr>\n",
       "    <tr>\n",
       "      <th>2</th>\n",
       "      <td>250.200</td>\n",
       "      <td>2492.737202</td>\n",
       "    </tr>\n",
       "    <tr>\n",
       "      <th>3</th>\n",
       "      <td>5.256</td>\n",
       "      <td>906.216336</td>\n",
       "    </tr>\n",
       "    <tr>\n",
       "      <th>4</th>\n",
       "      <td>324.000</td>\n",
       "      <td>2572.698240</td>\n",
       "    </tr>\n",
       "  </tbody>\n",
       "</table>\n",
       "</div>"
      ],
      "text/plain": [
       "     Actual   Prediction\n",
       "0  4284.000  2572.698240\n",
       "1     5.256   255.611293\n",
       "2   250.200  2492.737202\n",
       "3     5.256   906.216336\n",
       "4   324.000  2572.698240"
      ]
     },
     "execution_count": 33,
     "metadata": {},
     "output_type": "execute_result"
    }
   ],
   "source": [
    "actual = y_test.reset_index(drop=True)\n",
    "recreate = pd.concat([x_test, y_test], axis=1)\n",
    "print(recreate.head(5))\n",
    "result = pd.concat([actual, pd.Series(predictions, name='Prediction')], axis=1)\n",
    "result.rename(columns={\"amount\": \"Actual\"}, inplace=True)\n",
    "result.head(5)"
   ]
  },
  {
   "cell_type": "code",
   "execution_count": 28,
   "id": "7c2a389e",
   "metadata": {
    "scrolled": true
   },
   "outputs": [
    {
     "data": {
      "image/png": "[encoded data removed]",
      "text/plain": [
       "<Figure size 1152x648 with 1 Axes>"
      ]
     },
     "metadata": {
      "needs_background": "light"
     },
     "output_type": "display_data"
    }
   ],
   "source": [
    "plt.figure(figsize=(16, 9))\n",
    "plt.title('Testing data - Expenses over time')\n",
    "sample = result.sample(200)\n",
    "sample.sort_index(inplace=True)\n",
    "plt.plot(sample['Actual'], color='green')\n",
    "plt.plot(sample['Prediction'], color='blue')\n",
    "plt.savefig('predictions/prediction2.png')\n",
    "plt.show()"
   ]
  },
  {
   "cell_type": "code",
   "execution_count": 29,
   "id": "5ccacedf",
   "metadata": {},
   "outputs": [
    {
     "data": {
      "text/html": [
       "<div>\n",
       "<style scoped>\n",
       "    .dataframe tbody tr th:only-of-type {\n",
       "        vertical-align: middle;\n",
       "    }\n",
       "\n",
       "    .dataframe tbody tr th {\n",
       "        vertical-align: top;\n",
       "    }\n",
       "\n",
       "    .dataframe thead th {\n",
       "        text-align: right;\n",
       "    }\n",
       "</style>\n",
       "<table border=\"1\" class=\"dataframe\">\n",
       "  <thead>\n",
       "    <tr style=\"text-align: right;\">\n",
       "      <th></th>\n",
       "      <th>trans_id</th>\n",
       "      <th>account_id</th>\n",
       "      <th>type</th>\n",
       "      <th>weekday</th>\n",
       "      <th>day</th>\n",
       "      <th>month</th>\n",
       "      <th>year</th>\n",
       "    </tr>\n",
       "  </thead>\n",
       "  <tbody>\n",
       "    <tr>\n",
       "      <th>0</th>\n",
       "      <td>0.0</td>\n",
       "      <td>0.080566</td>\n",
       "      <td>0.0</td>\n",
       "      <td>0.0</td>\n",
       "      <td>0.796692</td>\n",
       "      <td>0.122739</td>\n",
       "      <td>0.000002</td>\n",
       "    </tr>\n",
       "  </tbody>\n",
       "</table>\n",
       "</div>"
      ],
      "text/plain": [
       "   trans_id  account_id  type  weekday       day     month      year\n",
       "0       0.0    0.080566   0.0      0.0  0.796692  0.122739  0.000002"
      ]
     },
     "execution_count": 29,
     "metadata": {},
     "output_type": "execute_result"
    }
   ],
   "source": [
    "pd.DataFrame(data=[model.feature_importances_], columns=x.columns)"
   ]
  },
  {
   "cell_type": "code",
   "execution_count": 31,
   "id": "18f4a75d",
   "metadata": {},
   "outputs": [
    {
     "data": {
      "text/plain": [
       "['columns.pkl']"
      ]
     },
     "execution_count": 31,
     "metadata": {},
     "output_type": "execute_result"
    }
   ],
   "source": [
    "import joblib\n",
    "\n",
    "joblib.dump(model, 'model.pkl')\n",
    "lr = joblib.load('model.pkl')\n",
    "columns = list(x_train.columns)\n",
    "joblib.dump(columns, 'columns.pkl')"
   ]
  }
 ],
 "metadata": {
  "kernelspec": {
   "display_name": "Python 3 (ipykernel)",
   "language": "python",
   "name": "python3"
  },
  "language_info": {
   "codemirror_mode": {
    "name": "ipython",
    "version": 3
   },
   "file_extension": ".py",
   "mimetype": "text/x-python",
   "name": "python",
   "nbconvert_exporter": "python",
   "pygments_lexer": "ipython3",
   "version": "3.9.7"
  }
 },
 "nbformat": 4,
 "nbformat_minor": 5
}
