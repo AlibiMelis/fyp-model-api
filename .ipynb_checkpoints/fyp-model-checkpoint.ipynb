{
 "cells": [
  {
   "cell_type": "code",
   "execution_count": 1,
   "metadata": {},
   "outputs": [],
   "source": [
    "import pandas as pd\n",
    "import numpy as np\n",
    "import matplotlib.pyplot as plt"
   ]
  },
  {
   "cell_type": "code",
   "execution_count": 2,
   "metadata": {},
   "outputs": [],
   "source": [
    "df = pd.read_csv('dataset.csv')"
   ]
  },
  {
   "cell_type": "code",
   "execution_count": 3,
   "metadata": {},
   "outputs": [
    {
     "data": {
      "text/html": [
       "<div>\n",
       "<style scoped>\n",
       "    .dataframe tbody tr th:only-of-type {\n",
       "        vertical-align: middle;\n",
       "    }\n",
       "\n",
       "    .dataframe tbody tr th {\n",
       "        vertical-align: top;\n",
       "    }\n",
       "\n",
       "    .dataframe thead th {\n",
       "        text-align: right;\n",
       "    }\n",
       "</style>\n",
       "<table border=\"1\" class=\"dataframe\">\n",
       "  <thead>\n",
       "    <tr style=\"text-align: right;\">\n",
       "      <th></th>\n",
       "      <th>trans_id;\"account_id\";\"date\";\"type\";\"operation\";\"amount\";\"balance\";\"k_symbol\";\"bank\";\"account\"</th>\n",
       "    </tr>\n",
       "  </thead>\n",
       "  <tbody>\n",
       "    <tr>\n",
       "      <th>0</th>\n",
       "      <td>695247;2378;930101;\"PRIJEM\";\"VKLAD\";700.00;700...</td>\n",
       "    </tr>\n",
       "    <tr>\n",
       "      <th>1</th>\n",
       "      <td>171812;576;930101;\"PRIJEM\";\"VKLAD\";900.00;900....</td>\n",
       "    </tr>\n",
       "    <tr>\n",
       "      <th>2</th>\n",
       "      <td>207264;704;930101;\"PRIJEM\";\"VKLAD\";1000.00;100...</td>\n",
       "    </tr>\n",
       "    <tr>\n",
       "      <th>3</th>\n",
       "      <td>1117247;3818;930101;\"PRIJEM\";\"VKLAD\";600.00;60...</td>\n",
       "    </tr>\n",
       "    <tr>\n",
       "      <th>4</th>\n",
       "      <td>579373;1972;930102;\"PRIJEM\";\"VKLAD\";400.00;400...</td>\n",
       "    </tr>\n",
       "    <tr>\n",
       "      <th>...</th>\n",
       "      <td>...</td>\n",
       "    </tr>\n",
       "    <tr>\n",
       "      <th>1056315</th>\n",
       "      <td>3626622;2906;981231;\"PRIJEM\";\"\";62.30;13729.40...</td>\n",
       "    </tr>\n",
       "    <tr>\n",
       "      <th>1056316</th>\n",
       "      <td>3627616;2935;981231;\"PRIJEM\";\"\";81.30;19544.90...</td>\n",
       "    </tr>\n",
       "    <tr>\n",
       "      <th>1056317</th>\n",
       "      <td>3625403;2869;981231;\"PRIJEM\";\"\";60.20;14638.20...</td>\n",
       "    </tr>\n",
       "    <tr>\n",
       "      <th>1056318</th>\n",
       "      <td>3626683;2907;981231;\"PRIJEM\";\"\";107.50;23453.0...</td>\n",
       "    </tr>\n",
       "    <tr>\n",
       "      <th>1056319</th>\n",
       "      <td>3626540;2902;981231;\"PRIJEM\";\"\";164.10;41642.9...</td>\n",
       "    </tr>\n",
       "  </tbody>\n",
       "</table>\n",
       "<p>1056320 rows × 1 columns</p>\n",
       "</div>"
      ],
      "text/plain": [
       "        trans_id;\"account_id\";\"date\";\"type\";\"operation\";\"amount\";\"balance\";\"k_symbol\";\"bank\";\"account\"\n",
       "0        695247;2378;930101;\"PRIJEM\";\"VKLAD\";700.00;700...                                            \n",
       "1        171812;576;930101;\"PRIJEM\";\"VKLAD\";900.00;900....                                            \n",
       "2        207264;704;930101;\"PRIJEM\";\"VKLAD\";1000.00;100...                                            \n",
       "3        1117247;3818;930101;\"PRIJEM\";\"VKLAD\";600.00;60...                                            \n",
       "4        579373;1972;930102;\"PRIJEM\";\"VKLAD\";400.00;400...                                            \n",
       "...                                                    ...                                            \n",
       "1056315  3626622;2906;981231;\"PRIJEM\";\"\";62.30;13729.40...                                            \n",
       "1056316  3627616;2935;981231;\"PRIJEM\";\"\";81.30;19544.90...                                            \n",
       "1056317  3625403;2869;981231;\"PRIJEM\";\"\";60.20;14638.20...                                            \n",
       "1056318  3626683;2907;981231;\"PRIJEM\";\"\";107.50;23453.0...                                            \n",
       "1056319  3626540;2902;981231;\"PRIJEM\";\"\";164.10;41642.9...                                            \n",
       "\n",
       "[1056320 rows x 1 columns]"
      ]
     },
     "execution_count": 3,
     "metadata": {},
     "output_type": "execute_result"
    }
   ],
   "source": [
    "df"
   ]
  },
  {
   "cell_type": "code",
   "execution_count": null,
   "metadata": {},
   "outputs": [],
   "source": []
  },
  {
   "cell_type": "code",
   "execution_count": null,
   "metadata": {},
   "outputs": [],
   "source": []
  },
  {
   "cell_type": "code",
   "execution_count": null,
   "metadata": {},
   "outputs": [],
   "source": []
  }
 ],
 "metadata": {
  "kernelspec": {
   "display_name": "Python 3 (ipykernel)",
   "language": "python",
   "name": "python3"
  },
  "language_info": {
   "codemirror_mode": {
    "name": "ipython",
    "version": 3
   },
   "file_extension": ".py",
   "mimetype": "text/x-python",
   "name": "python",
   "nbconvert_exporter": "python",
   "pygments_lexer": "ipython3",
   "version": "3.9.7"
  }
 },
 "nbformat": 4,
 "nbformat_minor": 2
}
